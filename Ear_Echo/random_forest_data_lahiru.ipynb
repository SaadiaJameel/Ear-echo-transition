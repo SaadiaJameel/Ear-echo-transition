{
 "cells": [
  {
   "cell_type": "code",
   "execution_count": 3,
   "metadata": {
    "id": "ms6JATrV97d3"
   },
   "outputs": [],
   "source": [
    "import numpy as np\n",
    "import pandas as pd\n",
    "import csv\n",
    "import tensorflow as tf\n",
    "import matplotlib.pyplot as plt\n",
    "from keras.models import Sequential\n",
    "from keras.layers import Dense , Dropout\n",
    "from tensorflow.keras.optimizers import Adam\n",
    "from sklearn.model_selection import train_test_split\n",
    "from sklearn.linear_model import LogisticRegression\n",
    "from sklearn.metrics import accuracy_score\n",
    "from sklearn.preprocessing import MinMaxScaler,StandardScaler\n"
   ]
  },
  {
   "cell_type": "code",
   "execution_count": 4,
   "metadata": {
    "colab": {
     "base_uri": "https://localhost:8080/"
    },
    "id": "H_mEqg2uAJXO",
    "outputId": "d890c4e2-d06e-4bee-d3c8-6068c21266a3"
   },
   "outputs": [
    {
     "name": "stdout",
     "output_type": "stream",
     "text": [
      "Mounted at /content/drive\n"
     ]
    }
   ],
   "source": [
    "from google.colab import drive\n",
    "drive.mount('/content/drive')"
   ]
  },
  {
   "cell_type": "code",
   "execution_count": 27,
   "metadata": {
    "colab": {
     "base_uri": "https://localhost:8080/"
    },
    "id": "ccNI_4BaBrlR",
    "outputId": "1af6d3e0-04d2-4aec-cca9-9dc8f9f292ba"
   },
   "outputs": [
    {
     "name": "stdout",
     "output_type": "stream",
     "text": [
      "0    60\n",
      "1    60\n",
      "2    60\n",
      "3    60\n",
      "4    60\n",
      "Name: 1440, dtype: int64\n",
      "# of training data = 199\n",
      "# of Validation data = 41\n",
      "# of testdata = 60\n"
     ]
    }
   ],
   "source": [
    "TF_data = pd.read_csv('/content/drive/MyDrive/SMU project/17-23/Data Bucket/TF_DataLahiru3RD.csv')\n",
    "# A copy of the original dataset\n",
    "TF_data = TF_data[:]\n",
    "\n",
    "# Drop rows with unknown class labels\n",
    "TF_data.drop(TF_data[TF_data['1440'] >= 5].index, inplace=True)\n",
    "print(TF_data['1440'].value_counts())\n",
    "\n",
    "# Separating data and labels\n",
    "X= TF_data.drop(columns='1440', axis=1)\n",
    "Y= TF_data['1440']\n",
    "\n",
    "# Train and Test data\n",
    "X_train_, X_test, Y_train_, Y_test= train_test_split(X,Y, test_size=0.2, stratify=Y, random_state=2)\n",
    "X_train, X_validation, Y_train, Y_validation= train_test_split(X_train_, Y_train_, test_size=0.17, stratify=Y_train_, random_state=1)\n",
    "\n",
    "X_train= X_train.astype('float32')\n",
    "X_test= X_test.astype('float32')\n",
    "\n",
    "print(\"# of training data =\",X_train.shape[0])\n",
    "print(\"# of Validation data =\",X_validation.shape[0])\n",
    "print(\"# of testdata =\",X_test.shape[0])"
   ]
  },
  {
   "cell_type": "markdown",
   "metadata": {
    "id": "XnpBRhG2FXFP"
   },
   "source": [
    "## Task List\n",
    "\n",
    "Here the following facial expressions will be represented as given below .<br><br>\n",
    "0  = No Action <br>\n",
    "1  = Mouth Opened <br>\n",
    "2  = Pull the lips conner Left<br>\n",
    "3  = Pull the lips conner Right<br>\n",
    "4  = Eye Brows Up <br>"
   ]
  },
  {
   "cell_type": "code",
   "execution_count": 28,
   "metadata": {
    "id": "L_zEBsupFmTa"
   },
   "outputs": [],
   "source": [
    "task_list=['No Action','Mouth Opened','Pull the lips conner Left','Pull the lips conner Right','Eye Brows Up']"
   ]
  },
  {
   "cell_type": "code",
   "execution_count": 29,
   "metadata": {
    "id": "1Ua27l77F0Mk"
   },
   "outputs": [],
   "source": [
    "# Normalize the data\n",
    "sc= StandardScaler()\n",
    "norm_train_data= pd.DataFrame(sc.fit_transform(X_train), columns= X.columns)\n",
    "norm_validation_data= pd.DataFrame(sc.fit_transform(X_validation), columns= X.columns)\n",
    "norm_test_data= pd.DataFrame(sc.fit_transform(X_test), columns= X.columns)"
   ]
  },
  {
   "cell_type": "code",
   "execution_count": 30,
   "metadata": {
    "colab": {
     "base_uri": "https://localhost:8080/"
    },
    "id": "9YvBJXQeN1ad",
    "outputId": "25556a11-e84b-408d-f923-0545dedc155e"
   },
   "outputs": [
    {
     "name": "stdout",
     "output_type": "stream",
     "text": [
      "Fitting 5 folds for each of 30 candidates, totalling 150 fits\n"
     ]
    },
    {
     "data": {
      "text/plain": [
       "{'n_estimators': 2378,\n",
       " 'min_samples_split': 5,\n",
       " 'min_samples_leaf': 4,\n",
       " 'max_features': 'sqrt',\n",
       " 'max_depth': 20,\n",
       " 'criterion': 'entropy',\n",
       " 'bootstrap': False}"
      ]
     },
     "execution_count": 30,
     "metadata": {},
     "output_type": "execute_result"
    }
   ],
   "source": [
    "# Training the random forest classifier\n",
    "from sklearn.ensemble._forest import RandomForestClassifier\n",
    "from sklearn.model_selection import RandomizedSearchCV\n",
    "\n",
    "### Model parameters\n",
    "\n",
    "# Number of trees in the random forest\n",
    "n_estimators= np.linspace(100, 3000, int((3000-100)/200)+ 1, dtype=int)\n",
    "\n",
    "# Number of features to consider at each split\n",
    "max_features= ['sqrt']\n",
    "\n",
    "# Maximum number of levels in tree\n",
    "max_depth= [1, 5, 10, 20, 50, 75, 100, 150, 200]\n",
    "\n",
    "# Minimum number of samples to split a node\n",
    "min_samples_split= [2, 5, 10, 15, 20, 30]\n",
    "\n",
    "# Minimum number of samples needed at each leaf node\n",
    "min_samples_leaf= [1,2,3,4]\n",
    "\n",
    "# Method of selecting samples for training each tree\n",
    "bootstrap= [True, False]\n",
    "\n",
    "# Criterion\n",
    "criterion= ['gini', 'entropy']\n",
    "\n",
    "random_grid = {'n_estimators': n_estimators,\n",
    "               'max_features': max_features,\n",
    "               'max_depth': max_depth,\n",
    "               'min_samples_split': min_samples_split,\n",
    "               'min_samples_leaf': min_samples_leaf,\n",
    "               'bootstrap': bootstrap,\n",
    "               'criterion': criterion}\n",
    "\n",
    "\n",
    "base= RandomForestClassifier()\n",
    "model= RandomizedSearchCV(estimator = base,\n",
    "                              param_distributions= random_grid,\n",
    "                              n_iter= 30, cv= 5,\n",
    "                              verbose= 2,\n",
    "                              random_state= 42, n_jobs= 4)\n",
    "model.fit(X_train_, Y_train_)\n",
    "\n",
    "model.best_params_"
   ]
  },
  {
   "cell_type": "code",
   "execution_count": 31,
   "metadata": {
    "colab": {
     "base_uri": "https://localhost:8080/"
    },
    "id": "8WPf82TIMPJC",
    "outputId": "039633c6-ba0a-4467-e705-9274a7bf29e3"
   },
   "outputs": [
    {
     "name": "stdout",
     "output_type": "stream",
     "text": [
      "Test Accuracy for 1st Person :  98.33 %\n"
     ]
    }
   ],
   "source": [
    "# Make predictions\n",
    "\n",
    "Y_pred_random_forest= model.predict(X_test)\n",
    "\n",
    "print(\"Test Accuracy for 1st Person :  \"+str(round(accuracy_score(Y_test,Y_pred_random_forest)*100 , 2))+' %')"
   ]
  },
  {
   "cell_type": "code",
   "execution_count": 32,
   "metadata": {
    "id": "TqRQ__p2dSFQ"
   },
   "outputs": [],
   "source": [
    "from sklearn.metrics import confusion_matrix\n",
    "from sklearn.utils.multiclass import unique_labels\n",
    "import seaborn\n",
    "\n",
    "\n",
    "def give_ConfM(ytest,ypredict):\n",
    "  labels = unique_labels(Y_test)\n",
    "  col = [f'Pred{lab}' for lab in labels]\n",
    "  row = [f'Act{lab}' for lab in labels]\n",
    "\n",
    "  table = pd.DataFrame(confusion_matrix(ytest,ypredict) , columns=col , index=row)\n",
    "  return (table)\n",
    "\n",
    "def get_f1_score(confusion_matrix, i):\n",
    "    TP = 0\n",
    "    FP = 0\n",
    "    TN = 0\n",
    "    FN = 0\n",
    "\n",
    "    for j in range(len(confusion_matrix)):\n",
    "        if (i == j):\n",
    "            TP += confusion_matrix[i, j]\n",
    "            tmp = np.delete(confusion_matrix, i, 0)\n",
    "            tmp = np.delete(tmp, j, 1)\n",
    "\n",
    "            TN += np.sum(tmp)\n",
    "        else:\n",
    "            if (confusion_matrix[i, j] != 0):\n",
    "\n",
    "                FN += confusion_matrix[i, j]\n",
    "            if (confusion_matrix[j, i] != 0):\n",
    "\n",
    "                FP += confusion_matrix[j, i]\n",
    "\n",
    "    recall = TP / (FN + TP)\n",
    "    precision = TP / (TP + FP)\n",
    "    f1_score = 2 * 1/(1/recall + 1/precision)\n",
    "\n",
    "    return (f1_score)"
   ]
  },
  {
   "cell_type": "code",
   "execution_count": 33,
   "metadata": {
    "colab": {
     "base_uri": "https://localhost:8080/",
     "height": 469
    },
    "id": "HvZlXco7dF7o",
    "outputId": "62fb8d59-7191-4c1e-c3ad-c5a9ee927237"
   },
   "outputs": [
    {
     "data": {
      "text/plain": [
       "Text(0.5, 1.0, 'Confusoin Matrix for Random Forest Classifier')"
      ]
     },
     "execution_count": 33,
     "metadata": {},
     "output_type": "execute_result"
    },
    {
     "data": {
      "image/png": "[encoded data removed]",
      "text/plain": [
       "<Figure size 640x480 with 2 Axes>"
      ]
     },
     "metadata": {},
     "output_type": "display_data"
    }
   ],
   "source": [
    "ConFMat= give_ConfM(Y_test,Y_pred_random_forest)\n",
    "#seaborn.heatmap(ConFMat_X , annot=True, fmt ='d' , cmap='magma')\n",
    "\n",
    "F_Scores =[]\n",
    "for i in range(0,5):\n",
    "  F_Scores.append( get_f1_score(np.array(ConFMat),i))\n",
    "\n",
    "F_Score_table = np.append(np.array(ConFMat).T ,[F_Scores], axis=0).T\n",
    "\n",
    "labels = unique_labels(Y_test)\n",
    "col = [f'Pred{lab}' for lab in labels]+['F Score']\n",
    "row = [f'Act{lab}' for lab in labels]\n",
    "\n",
    "table = pd.DataFrame(F_Score_table , columns=col, index=row)\n",
    "\n",
    "seaborn.heatmap( table, annot=True , cmap='YlOrRd')\n",
    "plt.title('Confusoin Matrix for Random Forest Classifier')"
   ]
  },
  {
   "cell_type": "code",
   "execution_count": 26,
   "metadata": {
    "id": "7QqUFg_fl_IB"
   },
   "outputs": [],
   "source": [
    "# from sklearn.model_selection import GridSearchCV\n",
    "\n",
    "# param_grid= {'n_estimators': np.linspace(2300, 2500, 5, dtype= int),\n",
    "#              'max_depth': [5, 10 , 20, 25, 30],\n",
    "#              'min_samples_split': [9, 10, 11, 12],\n",
    "#              'min_samples_leaf': [3, 4, 5, 6]}\n",
    "\n",
    "# rf_grid= RandomForestClassifier(criterion='entropy', bootstrap= False)\n",
    "\n",
    "# # Grid search model\n",
    "# grid_rf_search= GridSearchCV(estimator= rf_grid, param_grid= param_grid, cv = 5, n_jobs = 8, verbose = 2)\n",
    "# grid_rf_search.fit(X_train_, Y_train_)\n",
    "\n",
    "# best_rf_grid = grid_rf_search.best_estimator_\n",
    "# grid_rf_search.best_params_\n"
   ]
  },
  {
   "cell_type": "code",
   "execution_count": null,
   "metadata": {
    "id": "kOom4eE6nEii"
   },
   "outputs": [],
   "source": [
    "# Make predictions\n",
    "\n",
    "Y_pred_random_forest_grid_search= best_rf_grid.predict(X_test)\n",
    "\n",
    "print(\"Test Accuracy for 1st Person :  \"+str(round(accuracy_score(Y_test,Y_pred_random_forest_grid_search)*100 , 2))+' %')"
   ]
  },
  {
   "cell_type": "code",
   "execution_count": null,
   "metadata": {
    "id": "lzZvGD2Qm1BF"
   },
   "outputs": [],
   "source": [
    "ConFMat= give_ConfM(Y_test,Y_pred_random_forest_grid_search)\n",
    "#seaborn.heatmap(ConFMat_X , annot=True, fmt ='d' , cmap='magma')\n",
    "\n",
    "F_Scores =[]\n",
    "for i in range(0,5):\n",
    "  F_Scores.append( get_f1_score(np.array(ConFMat),i))\n",
    "\n",
    "F_Score_table = np.append(np.array(ConFMat).T ,[F_Scores], axis=0).T\n",
    "\n",
    "labels = unique_labels(Y_test)\n",
    "col = [f'Pred{lab}' for lab in labels]+['F Score']\n",
    "row = [f'Act{lab}' for lab in labels]\n",
    "\n",
    "table = pd.DataFrame(F_Score_table , columns=col, index=row)\n",
    "\n",
    "seaborn.heatmap( table, annot=True , cmap='YlOrRd')\n",
    "plt.title('Confusoin Matrix for Random Forest Classifier')"
   ]
  }
 ],
 "metadata": {
  "colab": {
   "provenance": []
  },
  "kernelspec": {
   "display_name": "Python 3 (ipykernel)",
   "language": "python",
   "name": "python3"
  },
  "language_info": {
   "codemirror_mode": {
    "name": "ipython",
    "version": 3
   },
   "file_extension": ".py",
   "mimetype": "text/x-python",
   "name": "python",
   "nbconvert_exporter": "python",
   "pygments_lexer": "ipython3",
   "version": "3.11.3"
  }
 },
 "nbformat": 4,
 "nbformat_minor": 1
}
