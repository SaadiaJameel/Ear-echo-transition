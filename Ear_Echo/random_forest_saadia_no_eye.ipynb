{
  "nbformat": 4,
  "nbformat_minor": 0,
  "metadata": {
    "colab": {
      "provenance": []
    },
    "kernelspec": {
      "name": "python3",
      "display_name": "Python 3"
    },
    "language_info": {
      "name": "python"
    }
  },
  "cells": [
    {
      "cell_type": "code",
      "execution_count": 1,
      "metadata": {
        "id": "ms6JATrV97d3"
      },
      "outputs": [],
      "source": [
        "import numpy as np\n",
        "import pandas as pd\n",
        "import csv\n",
        "import tensorflow as tf\n",
        "import matplotlib.pyplot as plt\n",
        "from keras.models import Sequential\n",
        "from keras.layers import Dense , Dropout\n",
        "from tensorflow.keras.optimizers import Adam\n",
        "from sklearn.model_selection import train_test_split\n",
        "from sklearn.linear_model import LogisticRegression\n",
        "from sklearn.metrics import accuracy_score\n",
        "from sklearn.preprocessing import MinMaxScaler,StandardScaler\n"
      ]
    },
    {
      "cell_type": "code",
      "source": [
        "from google.colab import drive\n",
        "drive.mount('/content/drive')"
      ],
      "metadata": {
        "colab": {
          "base_uri": "https://localhost:8080/"
        },
        "id": "H_mEqg2uAJXO",
        "outputId": "a334a16d-0b66-490c-8fbd-2903491ae78c"
      },
      "execution_count": 2,
      "outputs": [
        {
          "output_type": "stream",
          "name": "stdout",
          "text": [
            "Mounted at /content/drive\n"
          ]
        }
      ]
    },
    {
      "cell_type": "code",
      "source": [
        "TF_data = pd.read_csv('/content/drive/MyDrive/SMU project/17-23/Data Bucket/TF_DataSaadia_NoEye.csv')\n",
        "# A copy of the original dataset\n",
        "TF_data = TF_data[:]\n",
        "\n",
        "# Drop rows with unknown class labels\n",
        "TF_data.drop(TF_data[TF_data['1440'] >= 4].index, inplace=True)\n",
        "print(TF_data['1440'].value_counts())\n",
        "\n",
        "# Separating data and labels\n",
        "X= TF_data.drop(columns='1440', axis=1)\n",
        "Y= TF_data['1440']\n",
        "\n",
        "# Train and Test data\n",
        "X_train_, X_test, Y_train_, Y_test= train_test_split(X,Y, test_size=0.2, stratify=Y, random_state=2)\n",
        "X_train, X_validation, Y_train, Y_validation= train_test_split(X_train_, Y_train_, test_size=0.17, stratify=Y_train_, random_state=1)\n",
        "\n",
        "X_train= X_train.astype('float32')\n",
        "X_test= X_test.astype('float32')\n",
        "\n",
        "print(\"# of training data =\",X_train.shape[0])\n",
        "print(\"# of Validation data =\",X_validation.shape[0])\n",
        "print(\"# of testdata =\",X_test.shape[0])"
      ],
      "metadata": {
        "colab": {
          "base_uri": "https://localhost:8080/"
        },
        "id": "ccNI_4BaBrlR",
        "outputId": "1067825f-afd5-40f0-ccb5-1e9194cbe185"
      },
      "execution_count": 4,
      "outputs": [
        {
          "output_type": "stream",
          "name": "stdout",
          "text": [
            "0    52\n",
            "1    52\n",
            "2    52\n",
            "3    52\n",
            "Name: 1440, dtype: int64\n",
            "# of training data = 137\n",
            "# of Validation data = 29\n",
            "# of testdata = 42\n"
          ]
        }
      ]
    },
    {
      "cell_type": "markdown",
      "source": [
        "## Task List\n",
        "\n",
        "Here the following facial expressions will be represented as given below .<br><br>\n",
        "0  = No Action <br>\n",
        "1  = Mouth Opened <br>\n",
        "2  = Pull the lips conner Left<br>\n",
        "3  = Pull the lips conner Right<br>"
      ],
      "metadata": {
        "id": "XnpBRhG2FXFP"
      }
    },
    {
      "cell_type": "code",
      "source": [
        "task_list=['No Action','Mouth Opened','Pull the lips conner Left','Pull the lips conner Right']"
      ],
      "metadata": {
        "id": "L_zEBsupFmTa"
      },
      "execution_count": 5,
      "outputs": []
    },
    {
      "cell_type": "code",
      "source": [
        "# Normalize the data\n",
        "sc= StandardScaler()\n",
        "norm_train_data= pd.DataFrame(sc.fit_transform(X_train), columns= X.columns)\n",
        "norm_validation_data= pd.DataFrame(sc.fit_transform(X_validation), columns= X.columns)\n",
        "norm_test_data= pd.DataFrame(sc.fit_transform(X_test), columns= X.columns)"
      ],
      "metadata": {
        "id": "1Ua27l77F0Mk"
      },
      "execution_count": 6,
      "outputs": []
    },
    {
      "cell_type": "code",
      "source": [
        "# Training the random forest classifier\n",
        "from sklearn.ensemble._forest import RandomForestClassifier\n",
        "from sklearn.model_selection import RandomizedSearchCV\n",
        "\n",
        "### Model parameters\n",
        "\n",
        "# Number of trees in the random forest\n",
        "n_estimators= np.linspace(100, 3000, int((3000-100)/200)+ 1, dtype=int)\n",
        "\n",
        "# Number of features to consider at each split\n",
        "max_features= ['sqrt']\n",
        "\n",
        "# Maximum number of levels in tree\n",
        "max_depth= [1, 5, 10, 20, 50, 75, 100, 150, 200]\n",
        "\n",
        "# Minimum number of samples to split a node\n",
        "min_samples_split= [2, 5, 10, 15, 20, 30]\n",
        "\n",
        "# Minimum number of samples needed at each leaf node\n",
        "min_samples_leaf= [1,2,3,4]\n",
        "\n",
        "# Method of selecting samples for training each tree\n",
        "bootstrap= [True, False]\n",
        "\n",
        "# Criterion\n",
        "criterion= ['gini', 'entropy']\n",
        "\n",
        "random_grid = {'n_estimators': n_estimators,\n",
        "               'max_features': max_features,\n",
        "               'max_depth': max_depth,\n",
        "               'min_samples_split': min_samples_split,\n",
        "               'min_samples_leaf': min_samples_leaf,\n",
        "               'bootstrap': bootstrap,\n",
        "               'criterion': criterion}\n",
        "\n",
        "\n",
        "base= RandomForestClassifier()\n",
        "model= RandomizedSearchCV(estimator = base,\n",
        "                              param_distributions= random_grid,\n",
        "                              n_iter= 30, cv= 5,\n",
        "                              verbose= 2,\n",
        "                              random_state= 42, n_jobs= 4)\n",
        "model.fit(X_train_, Y_train_)\n",
        "\n",
        "model.best_params_"
      ],
      "metadata": {
        "colab": {
          "base_uri": "https://localhost:8080/"
        },
        "id": "9YvBJXQeN1ad",
        "outputId": "f629c343-de69-4cb5-abf7-110c413b09fd"
      },
      "execution_count": 7,
      "outputs": [
        {
          "output_type": "stream",
          "name": "stdout",
          "text": [
            "Fitting 5 folds for each of 30 candidates, totalling 150 fits\n"
          ]
        },
        {
          "output_type": "execute_result",
          "data": {
            "text/plain": [
              "{'n_estimators': 721,\n",
              " 'min_samples_split': 2,\n",
              " 'min_samples_leaf': 4,\n",
              " 'max_features': 'sqrt',\n",
              " 'max_depth': 100,\n",
              " 'criterion': 'gini',\n",
              " 'bootstrap': True}"
            ]
          },
          "metadata": {},
          "execution_count": 7
        }
      ]
    },
    {
      "cell_type": "code",
      "source": [
        "# Make predictions\n",
        "\n",
        "Y_pred_random_forest= model.predict(X_test)\n",
        "\n",
        "print(\"Test Accuracy for 1st Person :  \"+str(round(accuracy_score(Y_test,Y_pred_random_forest)*100 , 2))+' %')"
      ],
      "metadata": {
        "colab": {
          "base_uri": "https://localhost:8080/"
        },
        "id": "8WPf82TIMPJC",
        "outputId": "4be51f0f-7ffb-4dfe-d4da-901ace1fb534"
      },
      "execution_count": 8,
      "outputs": [
        {
          "output_type": "stream",
          "name": "stdout",
          "text": [
            "Test Accuracy for 1st Person :  73.81 %\n"
          ]
        }
      ]
    },
    {
      "cell_type": "code",
      "source": [
        "from sklearn.metrics import confusion_matrix\n",
        "from sklearn.utils.multiclass import unique_labels\n",
        "import seaborn\n",
        "\n",
        "\n",
        "def give_ConfM(ytest,ypredict):\n",
        "  labels = unique_labels(Y_test)\n",
        "  col = [f'Pred{lab}' for lab in labels]\n",
        "  row = [f'Act{lab}' for lab in labels]\n",
        "\n",
        "  table = pd.DataFrame(confusion_matrix(ytest,ypredict) , columns=col , index=row)\n",
        "  return (table)\n",
        "\n",
        "def get_f1_score(confusion_matrix, i):\n",
        "    TP = 0\n",
        "    FP = 0\n",
        "    TN = 0\n",
        "    FN = 0\n",
        "\n",
        "    for j in range(len(confusion_matrix)):\n",
        "        if (i == j):\n",
        "            TP += confusion_matrix[i, j]\n",
        "            tmp = np.delete(confusion_matrix, i, 0)\n",
        "            tmp = np.delete(tmp, j, 1)\n",
        "\n",
        "            TN += np.sum(tmp)\n",
        "        else:\n",
        "            if (confusion_matrix[i, j] != 0):\n",
        "\n",
        "                FN += confusion_matrix[i, j]\n",
        "            if (confusion_matrix[j, i] != 0):\n",
        "\n",
        "                FP += confusion_matrix[j, i]\n",
        "\n",
        "    recall = TP / (FN + TP)\n",
        "    precision = TP / (TP + FP)\n",
        "    f1_score = 2 * 1/(1/recall + 1/precision)\n",
        "\n",
        "    return (f1_score)"
      ],
      "metadata": {
        "id": "TqRQ__p2dSFQ"
      },
      "execution_count": 9,
      "outputs": []
    },
    {
      "cell_type": "code",
      "source": [
        "ConFMat= give_ConfM(Y_test,Y_pred_random_forest)\n",
        "#seaborn.heatmap(ConFMat_X , annot=True, fmt ='d' , cmap='magma')\n",
        "\n",
        "F_Scores =[]\n",
        "for i in range(0,4):\n",
        "  F_Scores.append( get_f1_score(np.array(ConFMat),i))\n",
        "\n",
        "F_Score_table = np.append(np.array(ConFMat).T ,[F_Scores], axis=0).T\n",
        "\n",
        "labels = unique_labels(Y_test)\n",
        "col = [f'Pred{lab}' for lab in labels]+['F Score']\n",
        "row = [f'Act{lab}' for lab in labels]\n",
        "\n",
        "table = pd.DataFrame(F_Score_table , columns=col, index=row)\n",
        "\n",
        "seaborn.heatmap( table, annot=True , cmap='YlOrRd')\n",
        "plt.title('Confusoin Matrix for Random Forest Classifier')"
      ],
      "metadata": {
        "colab": {
          "base_uri": "https://localhost:8080/",
          "height": 469
        },
        "id": "HvZlXco7dF7o",
        "outputId": "71d62f87-0b71-4ead-cd7b-b01d936b54e6"
      },
      "execution_count": 10,
      "outputs": [
        {
          "output_type": "execute_result",
          "data": {
            "text/plain": [
              "Text(0.5, 1.0, 'Confusoin Matrix for Random Forest Classifier')"
            ]
          },
          "metadata": {},
          "execution_count": 10
        },
        {
          "output_type": "display_data",
          "data": {
            "text/plain": [
              "<Figure size 640x480 with 2 Axes>"
            ],
            "image/png": "[encoded data removed]"
          },
          "metadata": {}
        }
      ]
    },
    {
      "cell_type": "code",
      "source": [
        "# from sklearn.model_selection import GridSearchCV\n",
        "\n",
        "# param_grid= {'n_estimators': np.linspace(2300, 2500, 5, dtype= int),\n",
        "#              'max_depth': [5, 10 , 20, 25, 30],\n",
        "#              'min_samples_split': [9, 10, 11, 12],\n",
        "#              'min_samples_leaf': [3, 4, 5, 6]}\n",
        "\n",
        "# rf_grid= RandomForestClassifier(criterion='entropy', bootstrap= False)\n",
        "\n",
        "# # Grid search model\n",
        "# grid_rf_search= GridSearchCV(estimator= rf_grid, param_grid= param_grid, cv = 5, n_jobs = 8, verbose = 2)\n",
        "# grid_rf_search.fit(X_train_, Y_train_)\n",
        "\n",
        "# best_rf_grid = grid_rf_search.best_estimator_\n",
        "# grid_rf_search.best_params_\n"
      ],
      "metadata": {
        "id": "7QqUFg_fl_IB"
      },
      "execution_count": null,
      "outputs": []
    },
    {
      "cell_type": "code",
      "source": [
        "# # Make predictions\n",
        "\n",
        "# # Y_pred_random_forest_grid_search= best_rf_grid.predict(X_test)\n",
        "\n",
        "# print(\"Test Accuracy for 1st Person :  \"+str(round(accuracy_score(Y_test,Y_pred_random_forest_grid_search)*100 , 2))+' %')"
      ],
      "metadata": {
        "id": "kOom4eE6nEii"
      },
      "execution_count": null,
      "outputs": []
    },
    {
      "cell_type": "code",
      "source": [
        "# ConFMat= give_ConfM(Y_test,Y_pred_random_forest_grid_search)\n",
        "# #seaborn.heatmap(ConFMat_X , annot=True, fmt ='d' , cmap='magma')\n",
        "\n",
        "# F_Scores =[]\n",
        "# for i in range(0,5):\n",
        "#   F_Scores.append( get_f1_score(np.array(ConFMat),i))\n",
        "\n",
        "# F_Score_table = np.append(np.array(ConFMat).T ,[F_Scores], axis=0).T\n",
        "\n",
        "# labels = unique_labels(Y_test)\n",
        "# col = [f'Pred{lab}' for lab in labels]+['F Score']\n",
        "# row = [f'Act{lab}' for lab in labels]\n",
        "\n",
        "# table = pd.DataFrame(F_Score_table , columns=col, index=row)\n",
        "\n",
        "# seaborn.heatmap( table, annot=True , cmap='YlOrRd')\n",
        "# plt.title('Confusoin Matrix for Random Forest Classifier')"
      ],
      "metadata": {
        "id": "lzZvGD2Qm1BF"
      },
      "execution_count": null,
      "outputs": []
    }
  ]
}