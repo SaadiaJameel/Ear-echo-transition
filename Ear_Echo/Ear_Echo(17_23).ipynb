{
 "cells": [
  {
   "cell_type": "markdown",
   "metadata": {
    "colab_type": "text",
    "id": "view-in-github"
   },
   "source": [
    "<a href=\"https://colab.research.google.com/github/L-Shyamal/ear-echo/blob/main/Ear_Echo/Ear_Echo(17_23).ipynb\" target=\"_parent\"><img src=\"https://colab.research.google.com/assets/colab-badge.svg\" alt=\"Open In Colab\"/></a>"
   ]
  },
  {
   "cell_type": "code",
   "execution_count": 2,
   "metadata": {
    "id": "1FLebaSAE737"
   },
   "outputs": [],
   "source": [
    "import numpy as np\n",
    "import pandas as pd\n",
    "import csv\n",
    "import tensorflow as tf\n",
    "import matplotlib.pyplot as plt\n",
    "from keras.models import Sequential\n",
    "from keras.layers import Dense , Dropout\n",
    "from tensorflow.keras.optimizers import Adam\n",
    "from sklearn.model_selection import train_test_split\n",
    "from sklearn.linear_model import LogisticRegression\n",
    "from sklearn.metrics import accuracy_score\n",
    "from sklearn.preprocessing import MinMaxScaler,StandardScaler"
   ]
  },
  {
   "cell_type": "code",
   "execution_count": null,
   "metadata": {
    "id": "FpJ7nmQwjuOo"
   },
   "outputs": [],
   "source": []
  },
  {
   "cell_type": "code",
   "execution_count": 3,
   "metadata": {
    "colab": {
     "base_uri": "https://localhost:8080/",
     "height": 279
    },
    "id": "vGc61T40FaSq",
    "outputId": "3662e46c-ad50-4de8-c6a6-6e05c043cdd1"
   },
   "outputs": [
    {
     "ename": "FileNotFoundError",
     "evalue": "[Errno 2] No such file or directory: '/content/drive/MyDrive/SMU project/17-23/TF_DataLahiru3RD.csv'",
     "output_type": "error",
     "traceback": [
      "\u001b[1;31m---------------------------------------------------------------------------\u001b[0m",
      "\u001b[1;31mFileNotFoundError\u001b[0m                         Traceback (most recent call last)",
      "Cell \u001b[1;32mIn[3], line 2\u001b[0m\n\u001b[0;32m      1\u001b[0m \u001b[38;5;66;03m#reading data from the stored CSV file\u001b[39;00m\n\u001b[1;32m----> 2\u001b[0m TF_data \u001b[38;5;241m=\u001b[39m \u001b[43mpd\u001b[49m\u001b[38;5;241;43m.\u001b[39;49m\u001b[43mread_csv\u001b[49m\u001b[43m(\u001b[49m\u001b[38;5;124;43m'\u001b[39;49m\u001b[38;5;124;43m/content/drive/MyDrive/SMU project/17-23/TF_DataLahiru3RD.csv\u001b[39;49m\u001b[38;5;124;43m'\u001b[39;49m\u001b[43m)\u001b[49m\n\u001b[0;32m      3\u001b[0m TF_data_2nd \u001b[38;5;241m=\u001b[39m pd\u001b[38;5;241m.\u001b[39mread_csv(\u001b[38;5;124m'\u001b[39m\u001b[38;5;124m/content/drive/MyDrive/SMU project/17-23/TF_DataDulaj3RD.csv\u001b[39m\u001b[38;5;124m'\u001b[39m)\n\u001b[0;32m      4\u001b[0m TF_data_3rd \u001b[38;5;241m=\u001b[39m pd\u001b[38;5;241m.\u001b[39mread_csv(\u001b[38;5;124m'\u001b[39m\u001b[38;5;124m/content/drive/MyDrive/SMU project/17-23/TF_DataDarshana3RD.csv\u001b[39m\u001b[38;5;124m'\u001b[39m)\n",
      "File \u001b[1;32m~\\AppData\\Roaming\\Python\\Python311\\site-packages\\pandas\\io\\parsers\\readers.py:912\u001b[0m, in \u001b[0;36mread_csv\u001b[1;34m(filepath_or_buffer, sep, delimiter, header, names, index_col, usecols, dtype, engine, converters, true_values, false_values, skipinitialspace, skiprows, skipfooter, nrows, na_values, keep_default_na, na_filter, verbose, skip_blank_lines, parse_dates, infer_datetime_format, keep_date_col, date_parser, date_format, dayfirst, cache_dates, iterator, chunksize, compression, thousands, decimal, lineterminator, quotechar, quoting, doublequote, escapechar, comment, encoding, encoding_errors, dialect, on_bad_lines, delim_whitespace, low_memory, memory_map, float_precision, storage_options, dtype_backend)\u001b[0m\n\u001b[0;32m    899\u001b[0m kwds_defaults \u001b[38;5;241m=\u001b[39m _refine_defaults_read(\n\u001b[0;32m    900\u001b[0m     dialect,\n\u001b[0;32m    901\u001b[0m     delimiter,\n\u001b[1;32m   (...)\u001b[0m\n\u001b[0;32m    908\u001b[0m     dtype_backend\u001b[38;5;241m=\u001b[39mdtype_backend,\n\u001b[0;32m    909\u001b[0m )\n\u001b[0;32m    910\u001b[0m kwds\u001b[38;5;241m.\u001b[39mupdate(kwds_defaults)\n\u001b[1;32m--> 912\u001b[0m \u001b[38;5;28;01mreturn\u001b[39;00m \u001b[43m_read\u001b[49m\u001b[43m(\u001b[49m\u001b[43mfilepath_or_buffer\u001b[49m\u001b[43m,\u001b[49m\u001b[43m \u001b[49m\u001b[43mkwds\u001b[49m\u001b[43m)\u001b[49m\n",
      "File \u001b[1;32m~\\AppData\\Roaming\\Python\\Python311\\site-packages\\pandas\\io\\parsers\\readers.py:577\u001b[0m, in \u001b[0;36m_read\u001b[1;34m(filepath_or_buffer, kwds)\u001b[0m\n\u001b[0;32m    574\u001b[0m _validate_names(kwds\u001b[38;5;241m.\u001b[39mget(\u001b[38;5;124m\"\u001b[39m\u001b[38;5;124mnames\u001b[39m\u001b[38;5;124m\"\u001b[39m, \u001b[38;5;28;01mNone\u001b[39;00m))\n\u001b[0;32m    576\u001b[0m \u001b[38;5;66;03m# Create the parser.\u001b[39;00m\n\u001b[1;32m--> 577\u001b[0m parser \u001b[38;5;241m=\u001b[39m \u001b[43mTextFileReader\u001b[49m\u001b[43m(\u001b[49m\u001b[43mfilepath_or_buffer\u001b[49m\u001b[43m,\u001b[49m\u001b[43m \u001b[49m\u001b[38;5;241;43m*\u001b[39;49m\u001b[38;5;241;43m*\u001b[39;49m\u001b[43mkwds\u001b[49m\u001b[43m)\u001b[49m\n\u001b[0;32m    579\u001b[0m \u001b[38;5;28;01mif\u001b[39;00m chunksize \u001b[38;5;129;01mor\u001b[39;00m iterator:\n\u001b[0;32m    580\u001b[0m     \u001b[38;5;28;01mreturn\u001b[39;00m parser\n",
      "File \u001b[1;32m~\\AppData\\Roaming\\Python\\Python311\\site-packages\\pandas\\io\\parsers\\readers.py:1407\u001b[0m, in \u001b[0;36mTextFileReader.__init__\u001b[1;34m(self, f, engine, **kwds)\u001b[0m\n\u001b[0;32m   1404\u001b[0m     \u001b[38;5;28mself\u001b[39m\u001b[38;5;241m.\u001b[39moptions[\u001b[38;5;124m\"\u001b[39m\u001b[38;5;124mhas_index_names\u001b[39m\u001b[38;5;124m\"\u001b[39m] \u001b[38;5;241m=\u001b[39m kwds[\u001b[38;5;124m\"\u001b[39m\u001b[38;5;124mhas_index_names\u001b[39m\u001b[38;5;124m\"\u001b[39m]\n\u001b[0;32m   1406\u001b[0m \u001b[38;5;28mself\u001b[39m\u001b[38;5;241m.\u001b[39mhandles: IOHandles \u001b[38;5;241m|\u001b[39m \u001b[38;5;28;01mNone\u001b[39;00m \u001b[38;5;241m=\u001b[39m \u001b[38;5;28;01mNone\u001b[39;00m\n\u001b[1;32m-> 1407\u001b[0m \u001b[38;5;28mself\u001b[39m\u001b[38;5;241m.\u001b[39m_engine \u001b[38;5;241m=\u001b[39m \u001b[38;5;28;43mself\u001b[39;49m\u001b[38;5;241;43m.\u001b[39;49m\u001b[43m_make_engine\u001b[49m\u001b[43m(\u001b[49m\u001b[43mf\u001b[49m\u001b[43m,\u001b[49m\u001b[43m \u001b[49m\u001b[38;5;28;43mself\u001b[39;49m\u001b[38;5;241;43m.\u001b[39;49m\u001b[43mengine\u001b[49m\u001b[43m)\u001b[49m\n",
      "File \u001b[1;32m~\\AppData\\Roaming\\Python\\Python311\\site-packages\\pandas\\io\\parsers\\readers.py:1661\u001b[0m, in \u001b[0;36mTextFileReader._make_engine\u001b[1;34m(self, f, engine)\u001b[0m\n\u001b[0;32m   1659\u001b[0m     \u001b[38;5;28;01mif\u001b[39;00m \u001b[38;5;124m\"\u001b[39m\u001b[38;5;124mb\u001b[39m\u001b[38;5;124m\"\u001b[39m \u001b[38;5;129;01mnot\u001b[39;00m \u001b[38;5;129;01min\u001b[39;00m mode:\n\u001b[0;32m   1660\u001b[0m         mode \u001b[38;5;241m+\u001b[39m\u001b[38;5;241m=\u001b[39m \u001b[38;5;124m\"\u001b[39m\u001b[38;5;124mb\u001b[39m\u001b[38;5;124m\"\u001b[39m\n\u001b[1;32m-> 1661\u001b[0m \u001b[38;5;28mself\u001b[39m\u001b[38;5;241m.\u001b[39mhandles \u001b[38;5;241m=\u001b[39m \u001b[43mget_handle\u001b[49m\u001b[43m(\u001b[49m\n\u001b[0;32m   1662\u001b[0m \u001b[43m    \u001b[49m\u001b[43mf\u001b[49m\u001b[43m,\u001b[49m\n\u001b[0;32m   1663\u001b[0m \u001b[43m    \u001b[49m\u001b[43mmode\u001b[49m\u001b[43m,\u001b[49m\n\u001b[0;32m   1664\u001b[0m \u001b[43m    \u001b[49m\u001b[43mencoding\u001b[49m\u001b[38;5;241;43m=\u001b[39;49m\u001b[38;5;28;43mself\u001b[39;49m\u001b[38;5;241;43m.\u001b[39;49m\u001b[43moptions\u001b[49m\u001b[38;5;241;43m.\u001b[39;49m\u001b[43mget\u001b[49m\u001b[43m(\u001b[49m\u001b[38;5;124;43m\"\u001b[39;49m\u001b[38;5;124;43mencoding\u001b[39;49m\u001b[38;5;124;43m\"\u001b[39;49m\u001b[43m,\u001b[49m\u001b[43m \u001b[49m\u001b[38;5;28;43;01mNone\u001b[39;49;00m\u001b[43m)\u001b[49m\u001b[43m,\u001b[49m\n\u001b[0;32m   1665\u001b[0m \u001b[43m    \u001b[49m\u001b[43mcompression\u001b[49m\u001b[38;5;241;43m=\u001b[39;49m\u001b[38;5;28;43mself\u001b[39;49m\u001b[38;5;241;43m.\u001b[39;49m\u001b[43moptions\u001b[49m\u001b[38;5;241;43m.\u001b[39;49m\u001b[43mget\u001b[49m\u001b[43m(\u001b[49m\u001b[38;5;124;43m\"\u001b[39;49m\u001b[38;5;124;43mcompression\u001b[39;49m\u001b[38;5;124;43m\"\u001b[39;49m\u001b[43m,\u001b[49m\u001b[43m \u001b[49m\u001b[38;5;28;43;01mNone\u001b[39;49;00m\u001b[43m)\u001b[49m\u001b[43m,\u001b[49m\n\u001b[0;32m   1666\u001b[0m \u001b[43m    \u001b[49m\u001b[43mmemory_map\u001b[49m\u001b[38;5;241;43m=\u001b[39;49m\u001b[38;5;28;43mself\u001b[39;49m\u001b[38;5;241;43m.\u001b[39;49m\u001b[43moptions\u001b[49m\u001b[38;5;241;43m.\u001b[39;49m\u001b[43mget\u001b[49m\u001b[43m(\u001b[49m\u001b[38;5;124;43m\"\u001b[39;49m\u001b[38;5;124;43mmemory_map\u001b[39;49m\u001b[38;5;124;43m\"\u001b[39;49m\u001b[43m,\u001b[49m\u001b[43m \u001b[49m\u001b[38;5;28;43;01mFalse\u001b[39;49;00m\u001b[43m)\u001b[49m\u001b[43m,\u001b[49m\n\u001b[0;32m   1667\u001b[0m \u001b[43m    \u001b[49m\u001b[43mis_text\u001b[49m\u001b[38;5;241;43m=\u001b[39;49m\u001b[43mis_text\u001b[49m\u001b[43m,\u001b[49m\n\u001b[0;32m   1668\u001b[0m \u001b[43m    \u001b[49m\u001b[43merrors\u001b[49m\u001b[38;5;241;43m=\u001b[39;49m\u001b[38;5;28;43mself\u001b[39;49m\u001b[38;5;241;43m.\u001b[39;49m\u001b[43moptions\u001b[49m\u001b[38;5;241;43m.\u001b[39;49m\u001b[43mget\u001b[49m\u001b[43m(\u001b[49m\u001b[38;5;124;43m\"\u001b[39;49m\u001b[38;5;124;43mencoding_errors\u001b[39;49m\u001b[38;5;124;43m\"\u001b[39;49m\u001b[43m,\u001b[49m\u001b[43m \u001b[49m\u001b[38;5;124;43m\"\u001b[39;49m\u001b[38;5;124;43mstrict\u001b[39;49m\u001b[38;5;124;43m\"\u001b[39;49m\u001b[43m)\u001b[49m\u001b[43m,\u001b[49m\n\u001b[0;32m   1669\u001b[0m \u001b[43m    \u001b[49m\u001b[43mstorage_options\u001b[49m\u001b[38;5;241;43m=\u001b[39;49m\u001b[38;5;28;43mself\u001b[39;49m\u001b[38;5;241;43m.\u001b[39;49m\u001b[43moptions\u001b[49m\u001b[38;5;241;43m.\u001b[39;49m\u001b[43mget\u001b[49m\u001b[43m(\u001b[49m\u001b[38;5;124;43m\"\u001b[39;49m\u001b[38;5;124;43mstorage_options\u001b[39;49m\u001b[38;5;124;43m\"\u001b[39;49m\u001b[43m,\u001b[49m\u001b[43m \u001b[49m\u001b[38;5;28;43;01mNone\u001b[39;49;00m\u001b[43m)\u001b[49m\u001b[43m,\u001b[49m\n\u001b[0;32m   1670\u001b[0m \u001b[43m\u001b[49m\u001b[43m)\u001b[49m\n\u001b[0;32m   1671\u001b[0m \u001b[38;5;28;01massert\u001b[39;00m \u001b[38;5;28mself\u001b[39m\u001b[38;5;241m.\u001b[39mhandles \u001b[38;5;129;01mis\u001b[39;00m \u001b[38;5;129;01mnot\u001b[39;00m \u001b[38;5;28;01mNone\u001b[39;00m\n\u001b[0;32m   1672\u001b[0m f \u001b[38;5;241m=\u001b[39m \u001b[38;5;28mself\u001b[39m\u001b[38;5;241m.\u001b[39mhandles\u001b[38;5;241m.\u001b[39mhandle\n",
      "File \u001b[1;32m~\\AppData\\Roaming\\Python\\Python311\\site-packages\\pandas\\io\\common.py:859\u001b[0m, in \u001b[0;36mget_handle\u001b[1;34m(path_or_buf, mode, encoding, compression, memory_map, is_text, errors, storage_options)\u001b[0m\n\u001b[0;32m    854\u001b[0m \u001b[38;5;28;01melif\u001b[39;00m \u001b[38;5;28misinstance\u001b[39m(handle, \u001b[38;5;28mstr\u001b[39m):\n\u001b[0;32m    855\u001b[0m     \u001b[38;5;66;03m# Check whether the filename is to be opened in binary mode.\u001b[39;00m\n\u001b[0;32m    856\u001b[0m     \u001b[38;5;66;03m# Binary mode does not support 'encoding' and 'newline'.\u001b[39;00m\n\u001b[0;32m    857\u001b[0m     \u001b[38;5;28;01mif\u001b[39;00m ioargs\u001b[38;5;241m.\u001b[39mencoding \u001b[38;5;129;01mand\u001b[39;00m \u001b[38;5;124m\"\u001b[39m\u001b[38;5;124mb\u001b[39m\u001b[38;5;124m\"\u001b[39m \u001b[38;5;129;01mnot\u001b[39;00m \u001b[38;5;129;01min\u001b[39;00m ioargs\u001b[38;5;241m.\u001b[39mmode:\n\u001b[0;32m    858\u001b[0m         \u001b[38;5;66;03m# Encoding\u001b[39;00m\n\u001b[1;32m--> 859\u001b[0m         handle \u001b[38;5;241m=\u001b[39m \u001b[38;5;28;43mopen\u001b[39;49m\u001b[43m(\u001b[49m\n\u001b[0;32m    860\u001b[0m \u001b[43m            \u001b[49m\u001b[43mhandle\u001b[49m\u001b[43m,\u001b[49m\n\u001b[0;32m    861\u001b[0m \u001b[43m            \u001b[49m\u001b[43mioargs\u001b[49m\u001b[38;5;241;43m.\u001b[39;49m\u001b[43mmode\u001b[49m\u001b[43m,\u001b[49m\n\u001b[0;32m    862\u001b[0m \u001b[43m            \u001b[49m\u001b[43mencoding\u001b[49m\u001b[38;5;241;43m=\u001b[39;49m\u001b[43mioargs\u001b[49m\u001b[38;5;241;43m.\u001b[39;49m\u001b[43mencoding\u001b[49m\u001b[43m,\u001b[49m\n\u001b[0;32m    863\u001b[0m \u001b[43m            \u001b[49m\u001b[43merrors\u001b[49m\u001b[38;5;241;43m=\u001b[39;49m\u001b[43merrors\u001b[49m\u001b[43m,\u001b[49m\n\u001b[0;32m    864\u001b[0m \u001b[43m            \u001b[49m\u001b[43mnewline\u001b[49m\u001b[38;5;241;43m=\u001b[39;49m\u001b[38;5;124;43m\"\u001b[39;49m\u001b[38;5;124;43m\"\u001b[39;49m\u001b[43m,\u001b[49m\n\u001b[0;32m    865\u001b[0m \u001b[43m        \u001b[49m\u001b[43m)\u001b[49m\n\u001b[0;32m    866\u001b[0m     \u001b[38;5;28;01melse\u001b[39;00m:\n\u001b[0;32m    867\u001b[0m         \u001b[38;5;66;03m# Binary mode\u001b[39;00m\n\u001b[0;32m    868\u001b[0m         handle \u001b[38;5;241m=\u001b[39m \u001b[38;5;28mopen\u001b[39m(handle, ioargs\u001b[38;5;241m.\u001b[39mmode)\n",
      "\u001b[1;31mFileNotFoundError\u001b[0m: [Errno 2] No such file or directory: '/content/drive/MyDrive/SMU project/17-23/TF_DataLahiru3RD.csv'"
     ]
    }
   ],
   "source": [
    "#reading data from the stored CSV file\n",
    "TF_data = pd.read_csv('/content/drive/MyDrive/SMU project/17-23/TF_DataLahiru3RD.csv')\n",
    "TF_data_2nd = pd.read_csv('/content/drive/MyDrive/SMU project/17-23/TF_DataDulaj3RD.csv')\n",
    "TF_data_3rd = pd.read_csv('/content/drive/MyDrive/SMU project/17-23/TF_DataDarshana3RD.csv')\n",
    "\n",
    "TF_data.head(5)"
   ]
  },
  {
   "cell_type": "code",
   "execution_count": null,
   "metadata": {
    "id": "wQrTkNdi3wXh"
   },
   "outputs": [],
   "source": [
    "# from google.colab import drive\n",
    "# drive.mount('/content/drive')"
   ]
  },
  {
   "cell_type": "code",
   "execution_count": null,
   "metadata": {
    "colab": {
     "base_uri": "https://localhost:8080/"
    },
    "id": "MiOvFLYHFrVJ",
    "outputId": "efb3c38b-3648-487a-8b6f-8f367f1005dc"
   },
   "outputs": [],
   "source": [
    "# Seperating Data and Labels\n",
    "\n",
    "#print(TF_data['720'].value_counts())\n",
    "\n",
    "TF_data.drop(TF_data[TF_data['1440'] >= 5].index, inplace = True)\n",
    "print(TF_data['1440'].value_counts())\n",
    "\n",
    "# Seperating Data and Labels\n",
    "\n",
    "X = TF_data.drop(columns='1440',axis=1)\n",
    "Y = TF_data['1440']\n",
    "\n",
    "# X_after_test , Y_after_test = X.iloc[228:] , Y.iloc[228:]\n",
    "# X , Y = X.iloc[:228] , Y.iloc[:228]\n",
    "# Train and Test Data\n",
    "X_train_,X_test,Y_train_,Y_test = train_test_split(X,Y , test_size=0.2 ,stratify=Y, random_state=2)\n",
    "X_train,X_validation,Y_train,Y_validation = train_test_split(X_train_,Y_train_ , test_size=0.16 ,stratify=Y_train_, random_state=1)\n",
    "\n",
    "X_train = X_train.astype('float32')\n",
    "X_test = X_test.astype('float32')\n",
    "#X_after_test = X_after_test.astype('float32')\n",
    "\n",
    "print(\"# of training data =\",X_train.shape[0])\n",
    "print(\"# of Validation data =\",X_validation.shape[0])\n",
    "print(\"# of testdata =\",X_test.shape[0])\n"
   ]
  },
  {
   "cell_type": "code",
   "execution_count": null,
   "metadata": {
    "colab": {
     "base_uri": "https://localhost:8080/"
    },
    "id": "bk0PCdzOaXKu",
    "outputId": "2fc56240-c97c-4748-81ec-801e73e8ef0f"
   },
   "outputs": [],
   "source": [
    "TF_data_2nd.drop(TF_data_2nd[TF_data_2nd['1440'] >= 5].index, inplace = True)\n",
    "print(TF_data_2nd['1440'].value_counts())\n",
    "\n",
    "# Seperating Data and Labels\n",
    "\n",
    "X_2nd = TF_data_2nd.drop(columns='1440',axis=1)\n",
    "Y_2nd = TF_data_2nd['1440']\n",
    "\n",
    "TF_data_3rd.drop(TF_data_3rd[TF_data_3rd['1440'] >= 5].index, inplace = True)\n",
    "print(TF_data_3rd['1440'].value_counts())\n",
    "\n",
    "# Seperating Data and Labels\n",
    "\n",
    "X_3rd = TF_data_3rd.drop(columns='1440',axis=1)\n",
    "Y_3rd = TF_data_3rd['1440']"
   ]
  },
  {
   "cell_type": "markdown",
   "metadata": {
    "id": "hISH537uBv8P"
   },
   "source": [
    "## Task List\n",
    "\n",
    "Here the following facial expressions will be represented as given below .<br><br>\n",
    "0  = No Action <br>\n",
    "1  = Mouth Opened <br>\n",
    "2  = Pull the lips conner Left<br>\n",
    "3  = Pull the lips conner Right<br>\n",
    "4  = Eye Brows Up <br>"
   ]
  },
  {
   "cell_type": "code",
   "execution_count": null,
   "metadata": {
    "id": "Mni4bcf1L4yZ"
   },
   "outputs": [],
   "source": [
    "task_list = ['No Action','Mouth Opened','Pull the lips conner Left','Pull the lips conner Right','Eye Brows Up']"
   ]
  },
  {
   "cell_type": "code",
   "execution_count": null,
   "metadata": {
    "colab": {
     "base_uri": "https://localhost:8080/"
    },
    "id": "EmXz8DYca8r_",
    "outputId": "241b78aa-e2b4-4f0a-bd91-eb520c8f4b2b"
   },
   "outputs": [],
   "source": [
    "#training the DNN model\n",
    "\n",
    "model = Sequential()\n",
    "model.add(tf.keras.layers.Dense(720*2, activation= tf.keras.layers.LeakyReLU(alpha=0.02), input_shape=(720*2,)))\n",
    "model.add(tf.keras.layers.Dense(250, activation= tf.keras.layers.LeakyReLU(alpha=0.02)))\n",
    "model.add(tf.keras.layers.Dense(120, activation= 'relu'))\n",
    "model.add(tf.keras.layers.Dense(5, activation='softmax'))\n",
    "print(model.summary())\n",
    "\n",
    "\n",
    "print(\"Training Run\")\n",
    "# compile model\n",
    "opt = tf.keras.optimizers.SGD(learning_rate=0.0008, momentum=0.08)\n",
    "model.compile(optimizer=opt, loss='sparse_categorical_crossentropy', metrics=['accuracy'])\n",
    "\n",
    "history = model.fit(X_train,Y_train, epochs=1000, batch_size=32,validation_data=(X_validation, Y_validation))\n",
    "\n",
    "\n",
    "print(\"\\n\"*5)\n",
    "print(\"Test Run\")\n",
    "\n",
    "Loss, acc = model.evaluate(X_test,Y_test)\n",
    "print(\"Test Loss:\", Loss)\n",
    "print(\"Accuracy = \", (acc * 100.0), \"%\")\n"
   ]
  },
  {
   "cell_type": "code",
   "execution_count": null,
   "metadata": {
    "colab": {
     "base_uri": "https://localhost:8080/",
     "height": 564
    },
    "id": "jSikiIfpMgMv",
    "outputId": "4b794223-efff-4fba-ecf7-413441f03b8b"
   },
   "outputs": [],
   "source": [
    "#plot the training and validation accuracy and loss at each epoch\n",
    "plt.figure(figsize=(12, 6))\n",
    "loss = history.history['loss']\n",
    "val_loss = history.history['val_loss']\n",
    "epochs = range(1, len(loss) + 1)\n",
    "plt.plot(epochs, loss, 'y', label='Training loss')\n",
    "plt.plot(epochs, val_loss, 'r', label='Validation loss')\n",
    "plt.title('Training and validation loss')\n",
    "plt.xlabel('Epochs')\n",
    "plt.ylabel('Loss')\n",
    "plt.legend()\n",
    "plt.show()"
   ]
  },
  {
   "cell_type": "code",
   "execution_count": null,
   "metadata": {
    "colab": {
     "base_uri": "https://localhost:8080/",
     "height": 472
    },
    "id": "Okw6rgGIMg2w",
    "outputId": "16822b89-b714-445b-bb4a-8da074d73e2f"
   },
   "outputs": [],
   "source": [
    "acc = history.history['accuracy']\n",
    "val_acc = history.history['val_accuracy']\n",
    "plt.plot(epochs, acc, 'y', label='Training acc')\n",
    "plt.plot(epochs, val_acc, 'r', label='Validation acc')\n",
    "plt.title('Training and validation accuracy')\n",
    "plt.xlabel('Epochs')\n",
    "plt.ylabel('Accuracy')\n",
    "plt.legend()\n",
    "plt.show()"
   ]
  },
  {
   "cell_type": "code",
   "execution_count": null,
   "metadata": {
    "colab": {
     "base_uri": "https://localhost:8080/"
    },
    "id": "TAbgdHklTmrb",
    "outputId": "bc4e0723-f60e-4862-ee0e-f1b687aa6abd"
   },
   "outputs": [],
   "source": [
    "Y_predict = model.predict(X_test)\n",
    "#print(len(Y_test) , len(Y_predict))\n",
    "print (\"Test Label--------------Predicted LAbel---------------\")\n",
    "for i in range(len(Y_predict)):\n",
    "    p = np.argmax(Y_predict,axis= 1)[i]\n",
    "    t = Y_test.iloc[i]\n",
    "    print(t,\"                        \",p,\"            \",(int(t)==p))"
   ]
  },
  {
   "cell_type": "markdown",
   "metadata": {
    "id": "PTWTMMB_Awd2"
   },
   "source": []
  },
  {
   "cell_type": "code",
   "execution_count": null,
   "metadata": {
    "colab": {
     "base_uri": "https://localhost:8080/"
    },
    "id": "1YWvdTS80wiw",
    "outputId": "85f949ae-7755-41db-a188-cf619db890da"
   },
   "outputs": [],
   "source": [
    "Y_prediction = np.argmax(Y_predict,axis= 1).astype('float32')\n",
    "\n",
    "from sklearn.metrics import accuracy_score\n",
    "accuracy_score(Y_test,Y_prediction)"
   ]
  },
  {
   "cell_type": "code",
   "execution_count": null,
   "metadata": {
    "colab": {
     "base_uri": "https://localhost:8080/"
    },
    "id": "PDgH56JmDd3r",
    "outputId": "a05567cd-11b6-43de-d0fc-6030f3f3a869"
   },
   "outputs": [],
   "source": [
    "Y_prediction_2nd = np.argmax(model.predict(X_2nd),axis= 1).astype('float32')\n",
    "Y_prediction_3rd = np.argmax(model.predict(X_3rd),axis= 1).astype('float32')\n",
    "\n",
    "\n",
    "Acc_2nd = accuracy_score(Y_2nd,Y_prediction_2nd)\n",
    "Acc_3rd = accuracy_score(Y_3rd,Y_prediction_3rd)\n",
    "\n",
    "print(\"Accuracy for 1st Person :  \"+str(round(accuracy_score(Y_test,Y_prediction)*100 , 2))+' %')\n",
    "print(\"Accuracy for 2nd Person :  \"+str(round(Acc_2nd*100,2))+' %')\n",
    "print(\"Accuracy for 3rd Person :  \"+str(round(Acc_3rd*100,2))+' %')"
   ]
  },
  {
   "cell_type": "code",
   "execution_count": null,
   "metadata": {
    "colab": {
     "base_uri": "https://localhost:8080/",
     "height": 1000
    },
    "id": "Dh2u1wM94pOc",
    "outputId": "2906fae9-51b0-499c-d5b7-044f488f8d1b"
   },
   "outputs": [],
   "source": [
    "f = np.arange(720*2)\n",
    "fig, axs = plt.subplots(17,3, figsize=(18, 28))\n",
    "fig.subplots_adjust(hspace = 1, wspace=0.3)\n",
    "\n",
    "axs = axs.ravel()\n",
    "\n",
    "for i in range(51):\n",
    "\n",
    "    test_name = task_list[int(Y_test.iloc[i])]\n",
    "    predict_name = task_list[(np.argmax(Y_predict,axis= 1)[i])]\n",
    "\n",
    "    if test_name==predict_name:col = 'green'\n",
    "    else: col = 'red'\n",
    "    axs[i].plot(f,X_test.iloc[i],color=col)\n",
    "    axs[i].set_title(test_name + \"--\"+predict_name)"
   ]
  },
  {
   "cell_type": "markdown",
   "metadata": {
    "id": "zaxErIvCvnFV"
   },
   "source": [
    "Confusion Matrix"
   ]
  },
  {
   "cell_type": "code",
   "execution_count": null,
   "metadata": {
    "colab": {
     "base_uri": "https://localhost:8080/",
     "height": 447
    },
    "id": "b-ABCZezqSTy",
    "outputId": "653b2bd5-7317-4192-f31b-ea99045473bb"
   },
   "outputs": [],
   "source": [
    "from sklearn.metrics import confusion_matrix\n",
    "from sklearn.utils.multiclass import unique_labels\n",
    "import seaborn\n",
    "\n",
    "\n",
    "def plot_ConfM(ytest,ypredict):\n",
    "  labels = unique_labels(Y_test)\n",
    "  col = [f'Pred{lab}' for lab in labels]\n",
    "  row = [f'Act{lab}' for lab in labels]\n",
    "\n",
    "  table = pd.DataFrame(confusion_matrix(ytest,ypredict) , columns=col , index=row)\n",
    "\n",
    "  return seaborn.heatmap(table , annot=True, fmt ='d' , cmap='viridis')\n",
    "\n",
    "plot_ConfM(Y_test,Y_prediction)"
   ]
  },
  {
   "cell_type": "code",
   "execution_count": null,
   "metadata": {
    "colab": {
     "base_uri": "https://localhost:8080/"
    },
    "id": "nLg4MOQDCtpZ",
    "outputId": "ce2b3064-60e7-4e2a-9935-e5f5920fba72"
   },
   "outputs": [],
   "source": [
    "model.save('/content/drive/MyDrive/Ear Echo/TF model-7/17')"
   ]
  },
  {
   "cell_type": "code",
   "execution_count": null,
   "metadata": {
    "colab": {
     "base_uri": "https://localhost:8080/",
     "height": 1000
    },
    "id": "ZU9esDF5BAU4",
    "outputId": "1268113f-c9c1-4526-b6fa-6a88b5477694"
   },
   "outputs": [],
   "source": [
    "TestSet = []\n",
    "for t in range(100):\n",
    "  X_train,X_test,Y_train,Y_test = train_test_split(X,Y , test_size=0.05 ,stratify=Y, random_state=t)\n",
    "\n",
    "  X_train = X_train.astype('float32')\n",
    "  X_test = X_test.astype('float32')\n",
    "\n",
    "  loss, accuracy = model.evaluate(X_test,Y_test)\n",
    "  TestSet.append((t,loss,accuracy))\n",
    "\n",
    "\n",
    "res = np.array(TestSet).T\n",
    "fig, axs = plt.subplots(2, 1,figsize=(12,8), sharex=True)\n",
    "\n",
    "axs[0].plot(res[0],res[1],color='green')\n",
    "axs[0].set_ylabel(\"Loss\")\n",
    "axs[0].set_ylim(0,2)\n",
    "\n",
    "axs[1].plot(res[0],res[2],color='red')\n",
    "axs[1].set_ylabel(\"Accuracy\")\n",
    "axs[1].set_xlabel(\"Test No\")\n",
    "axs[1].set_ylim(0,1.1)"
   ]
  },
  {
   "cell_type": "markdown",
   "metadata": {
    "id": "NB0pf6gpYeLJ"
   },
   "source": [
    "## K-fold Cross Validation"
   ]
  },
  {
   "cell_type": "code",
   "execution_count": null,
   "metadata": {
    "id": "-GLXKYNAYc0h"
   },
   "outputs": [],
   "source": [
    "from sklearn.model_selection import KFold\n"
   ]
  },
  {
   "cell_type": "code",
   "execution_count": null,
   "metadata": {
    "id": "aQjxL82gfOTp"
   },
   "outputs": [],
   "source": [
    "skf = KFold(n_splits=11 , random_state= 7 , shuffle= True)\n",
    "\n",
    "X_arr = X_train_.to_numpy()\n",
    "Y_arr = Y_train_.to_numpy()\n",
    "\n",
    "data_split_obj = skf.split(X_arr,Y_arr)"
   ]
  },
  {
   "cell_type": "code",
   "execution_count": null,
   "metadata": {
    "colab": {
     "base_uri": "https://localhost:8080/"
    },
    "id": "3pJN3H0whdMR",
    "outputId": "a4f48178-6bfa-4f26-8e47-5850ac5a8f86"
   },
   "outputs": [],
   "source": [
    "from sklearn import metrics\n",
    "predicted_y = []\n",
    "expected_y =[]\n",
    "\n",
    "for train_index , test_index in skf.split(X_arr,Y_arr):\n",
    "  x_train , x_test = X_arr[train_index] , X_arr[test_index]\n",
    "  y_train , y_test = Y_arr[train_index] , Y_arr[test_index]\n",
    "\n",
    "  #print(\"%s %s\" % (x_train, y_train))\n",
    "  model_X = Sequential()\n",
    "  model_X.add(tf.keras.layers.Dense(720*2, activation= tf.keras.layers.LeakyReLU(alpha=0.02), input_shape=(720*2,)))\n",
    "  model_X.add(tf.keras.layers.Dense(250, activation= tf.keras.layers.LeakyReLU(alpha=0.02)))\n",
    "  model_X.add(tf.keras.layers.Dense(120, activation= 'relu'))\n",
    "  model_X.add(tf.keras.layers.Dense(5, activation='softmax'))\n",
    "\n",
    "  opt = tf.keras.optimizers.SGD(learning_rate=0.0008, momentum=0.08)\n",
    "  model_X.compile(optimizer=opt, loss='sparse_categorical_crossentropy', metrics=['accuracy'])\n",
    "  model_X.fit(x_train,y_train, epochs=1000, batch_size=32)\n",
    "\n",
    "  predict_curr_fold =  np.argmax(model_X.predict(x_test) ,axis= 1).astype('float32')\n",
    "  accuracy_curr_fold = metrics.accuracy_score(y_test,predict_curr_fold)\n",
    "\n",
    "  print(\" Accuracy of current fold is \"+ accuracy_curr_fold.__str__())\n",
    "\n",
    "  #store the prediction in a array\n",
    "  predicted_y.extend(predict_curr_fold)\n",
    "\n",
    "  #store the actual expectation of this fold\n",
    "  expected_y.extend(y_test)\n",
    "\n",
    "\n",
    "\n"
   ]
  },
  {
   "cell_type": "code",
   "execution_count": null,
   "metadata": {
    "colab": {
     "base_uri": "https://localhost:8080/"
    },
    "id": "mmlPR0TguvKo",
    "outputId": "4e6324f1-6bb4-4dfd-d2ff-aad2d1cfc0b1"
   },
   "outputs": [],
   "source": [
    "final_accuracy = accuracy_score(expected_y,predicted_y)\n",
    "print(\"Final Accuracy is  :\" + round(final_accuracy*100 , 2).__str__() +\" %\")"
   ]
  },
  {
   "cell_type": "code",
   "execution_count": null,
   "metadata": {
    "colab": {
     "base_uri": "https://localhost:8080/"
    },
    "id": "0vNouSLmCAA3",
    "outputId": "50fb8435-f6d3-4e72-a156-1f6cb150b1ca"
   },
   "outputs": [],
   "source": [
    "Y_prediction_2nd_x = np.argmax(model_X.predict(X_2nd),axis= 1).astype('float32')\n",
    "Y_prediction_3rd_x = np.argmax(model_X.predict(X_3rd),axis= 1).astype('float32')\n",
    "Y_prediction_x = np.argmax(model_X.predict(X_test),axis= 1).astype('float32')\n",
    "\n",
    "Acc_2nd = accuracy_score(Y_2nd,Y_prediction_2nd_x)\n",
    "Acc_3rd = accuracy_score(Y_3rd,Y_prediction_3rd_x)\n",
    "\n",
    "print(\"Accuracy for 1st Person :  \"+str(round(accuracy_score(Y_test,Y_prediction_x)*100 , 2))+' %')\n",
    "print(\"Accuracy for 2nd Person :  \"+str(round(Acc_2nd*100,2))+' %')\n",
    "print(\"Accuracy for 3rd Person :  \"+str(round(Acc_3rd*100,2))+' %')"
   ]
  },
  {
   "cell_type": "code",
   "execution_count": null,
   "metadata": {
    "id": "dMFxq4vUedK3"
   },
   "outputs": [],
   "source": []
  }
 ],
 "metadata": {
  "accelerator": "GPU",
  "colab": {
   "gpuType": "T4",
   "include_colab_link": true,
   "provenance": []
  },
  "kernelspec": {
   "display_name": "Python 3 (ipykernel)",
   "language": "python",
   "name": "python3"
  },
  "language_info": {
   "codemirror_mode": {
    "name": "ipython",
    "version": 3
   },
   "file_extension": ".py",
   "mimetype": "text/x-python",
   "name": "python",
   "nbconvert_exporter": "python",
   "pygments_lexer": "ipython3",
   "version": "3.11.3"
  }
 },
 "nbformat": 4,
 "nbformat_minor": 1
}
